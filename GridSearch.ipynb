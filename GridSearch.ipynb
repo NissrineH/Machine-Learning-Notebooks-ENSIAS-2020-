{
  "nbformat": 4,
  "nbformat_minor": 0,
  "metadata": {
    "kernelspec": {
      "display_name": "Python 3",
      "language": "python",
      "name": "python3"
    },
    "language_info": {
      "codemirror_mode": {
        "name": "ipython",
        "version": 3
      },
      "file_extension": ".py",
      "mimetype": "text/x-python",
      "name": "python",
      "nbconvert_exporter": "python",
      "pygments_lexer": "ipython3",
      "version": "3.6.1"
    },
    "colab": {
      "name": "GridSearch.ipynb",
      "provenance": [],
      "collapsed_sections": []
    }
  },
  "cells": [
    {
      "cell_type": "markdown",
      "metadata": {
        "id": "NrGBd77ik-t8"
      },
      "source": [
        "## SVC with Grid Search"
      ]
    },
    {
      "cell_type": "code",
      "metadata": {
        "id": "yimojSbpk-t9"
      },
      "source": [
        "from sklearn.model_selection import train_test_split\n",
        "from sklearn.datasets import make_moons\n",
        "from sklearn.svm import SVC\n",
        "\n",
        "from sklearn.model_selection import GridSearchCV\n",
        "import sklearn\n",
        "import numpy as np\n",
        "\n",
        "np.random.seed(42)\n",
        "random_state = 42"
      ],
      "execution_count": 1,
      "outputs": []
    },
    {
      "cell_type": "code",
      "metadata": {
        "colab": {
          "base_uri": "https://localhost:8080/"
        },
        "id": "XZbzpGtOk-t9",
        "outputId": "4f447366-b8da-46e3-e10a-7d4d327c8559"
      },
      "source": [
        "X, y = make_moons(n_samples=500, noise=0.30, random_state = random_state)\n",
        "X_train, X_test, y_train, y_test = train_test_split(X, y, random_state = random_state)\n",
        "\n",
        "param_grid = [\n",
        "        {'kernel': ['linear'], 'C': [10., 30., 100., 300., 1000.]},\n",
        "        {'kernel': ['rbf'], 'C': [1.0, 3.0, 10., 30.],\n",
        "         'gamma': [0.01, 0.03, 0.1]},\n",
        "    ]\n",
        "\n",
        "svm_clf = SVC()\n",
        "svm_grid_search = GridSearchCV(svm_clf, param_grid, cv=5, scoring='f1', verbose=2)\n",
        "svm_grid_search.fit(X_train, y_train)"
      ],
      "execution_count": 2,
      "outputs": [
        {
          "output_type": "stream",
          "text": [
            "Fitting 5 folds for each of 17 candidates, totalling 85 fits\n",
            "[CV] C=10.0, kernel=linear ...........................................\n",
            "[CV] ............................ C=10.0, kernel=linear, total=   0.0s\n",
            "[CV] C=10.0, kernel=linear ...........................................\n",
            "[CV] ............................ C=10.0, kernel=linear, total=   0.0s\n",
            "[CV] C=10.0, kernel=linear ...........................................\n",
            "[CV] ............................ C=10.0, kernel=linear, total=   0.0s\n",
            "[CV] C=10.0, kernel=linear ...........................................\n",
            "[CV] ............................ C=10.0, kernel=linear, total=   0.0s\n",
            "[CV] C=10.0, kernel=linear ...........................................\n",
            "[CV] ............................ C=10.0, kernel=linear, total=   0.0s\n",
            "[CV] C=30.0, kernel=linear ...........................................\n",
            "[CV] ............................ C=30.0, kernel=linear, total=   0.0s\n",
            "[CV] C=30.0, kernel=linear ...........................................\n",
            "[CV] ............................ C=30.0, kernel=linear, total=   0.0s\n",
            "[CV] C=30.0, kernel=linear ...........................................\n",
            "[CV] ............................ C=30.0, kernel=linear, total=   0.0s\n",
            "[CV] C=30.0, kernel=linear ...........................................\n",
            "[CV] ............................ C=30.0, kernel=linear, total=   0.0s\n",
            "[CV] C=30.0, kernel=linear ...........................................\n",
            "[CV] ............................ C=30.0, kernel=linear, total=   0.0s\n",
            "[CV] C=100.0, kernel=linear ..........................................\n",
            "[CV] ........................... C=100.0, kernel=linear, total=   0.0s\n",
            "[CV] C=100.0, kernel=linear ..........................................\n",
            "[CV] ........................... C=100.0, kernel=linear, total=   0.0s\n",
            "[CV] C=100.0, kernel=linear ..........................................\n",
            "[CV] ........................... C=100.0, kernel=linear, total=   0.0s\n",
            "[CV] C=100.0, kernel=linear ..........................................\n",
            "[CV] ........................... C=100.0, kernel=linear, total=   0.0s\n",
            "[CV] C=100.0, kernel=linear ..........................................\n",
            "[CV] ........................... C=100.0, kernel=linear, total=   0.0s\n",
            "[CV] C=300.0, kernel=linear ..........................................\n",
            "[CV] ........................... C=300.0, kernel=linear, total=   0.0s\n",
            "[CV] C=300.0, kernel=linear ..........................................\n",
            "[CV] ........................... C=300.0, kernel=linear, total=   0.0s\n",
            "[CV] C=300.0, kernel=linear ..........................................\n",
            "[CV] ........................... C=300.0, kernel=linear, total=   0.0s\n",
            "[CV] C=300.0, kernel=linear ..........................................\n",
            "[CV] ........................... C=300.0, kernel=linear, total=   0.0s\n",
            "[CV] C=300.0, kernel=linear ..........................................\n"
          ],
          "name": "stdout"
        },
        {
          "output_type": "stream",
          "text": [
            "[Parallel(n_jobs=1)]: Using backend SequentialBackend with 1 concurrent workers.\n",
            "[Parallel(n_jobs=1)]: Done   1 out of   1 | elapsed:    0.0s remaining:    0.0s\n"
          ],
          "name": "stderr"
        },
        {
          "output_type": "stream",
          "text": [
            "[CV] ........................... C=300.0, kernel=linear, total=   0.0s\n",
            "[CV] C=1000.0, kernel=linear .........................................\n",
            "[CV] .......................... C=1000.0, kernel=linear, total=   0.1s\n",
            "[CV] C=1000.0, kernel=linear .........................................\n",
            "[CV] .......................... C=1000.0, kernel=linear, total=   0.1s\n",
            "[CV] C=1000.0, kernel=linear .........................................\n",
            "[CV] .......................... C=1000.0, kernel=linear, total=   0.1s\n",
            "[CV] C=1000.0, kernel=linear .........................................\n",
            "[CV] .......................... C=1000.0, kernel=linear, total=   0.0s\n",
            "[CV] C=1000.0, kernel=linear .........................................\n",
            "[CV] .......................... C=1000.0, kernel=linear, total=   0.0s\n",
            "[CV] C=1.0, gamma=0.01, kernel=rbf ...................................\n",
            "[CV] .................... C=1.0, gamma=0.01, kernel=rbf, total=   0.0s\n",
            "[CV] C=1.0, gamma=0.01, kernel=rbf ...................................\n",
            "[CV] .................... C=1.0, gamma=0.01, kernel=rbf, total=   0.0s\n",
            "[CV] C=1.0, gamma=0.01, kernel=rbf ...................................\n",
            "[CV] .................... C=1.0, gamma=0.01, kernel=rbf, total=   0.0s\n",
            "[CV] C=1.0, gamma=0.01, kernel=rbf ...................................\n",
            "[CV] .................... C=1.0, gamma=0.01, kernel=rbf, total=   0.0s\n",
            "[CV] C=1.0, gamma=0.01, kernel=rbf ...................................\n",
            "[CV] .................... C=1.0, gamma=0.01, kernel=rbf, total=   0.0s\n",
            "[CV] C=1.0, gamma=0.03, kernel=rbf ...................................\n",
            "[CV] .................... C=1.0, gamma=0.03, kernel=rbf, total=   0.0s\n",
            "[CV] C=1.0, gamma=0.03, kernel=rbf ...................................\n",
            "[CV] .................... C=1.0, gamma=0.03, kernel=rbf, total=   0.0s\n",
            "[CV] C=1.0, gamma=0.03, kernel=rbf ...................................\n",
            "[CV] .................... C=1.0, gamma=0.03, kernel=rbf, total=   0.0s\n",
            "[CV] C=1.0, gamma=0.03, kernel=rbf ...................................\n",
            "[CV] .................... C=1.0, gamma=0.03, kernel=rbf, total=   0.0s\n",
            "[CV] C=1.0, gamma=0.03, kernel=rbf ...................................\n",
            "[CV] .................... C=1.0, gamma=0.03, kernel=rbf, total=   0.0s\n",
            "[CV] C=1.0, gamma=0.1, kernel=rbf ....................................\n",
            "[CV] ..................... C=1.0, gamma=0.1, kernel=rbf, total=   0.0s\n",
            "[CV] C=1.0, gamma=0.1, kernel=rbf ....................................\n",
            "[CV] ..................... C=1.0, gamma=0.1, kernel=rbf, total=   0.0s\n",
            "[CV] C=1.0, gamma=0.1, kernel=rbf ....................................\n",
            "[CV] ..................... C=1.0, gamma=0.1, kernel=rbf, total=   0.0s\n",
            "[CV] C=1.0, gamma=0.1, kernel=rbf ....................................\n",
            "[CV] ..................... C=1.0, gamma=0.1, kernel=rbf, total=   0.0s\n",
            "[CV] C=1.0, gamma=0.1, kernel=rbf ....................................\n",
            "[CV] ..................... C=1.0, gamma=0.1, kernel=rbf, total=   0.0s\n",
            "[CV] C=3.0, gamma=0.01, kernel=rbf ...................................\n",
            "[CV] .................... C=3.0, gamma=0.01, kernel=rbf, total=   0.0s\n",
            "[CV] C=3.0, gamma=0.01, kernel=rbf ...................................\n",
            "[CV] .................... C=3.0, gamma=0.01, kernel=rbf, total=   0.0s\n",
            "[CV] C=3.0, gamma=0.01, kernel=rbf ...................................\n",
            "[CV] .................... C=3.0, gamma=0.01, kernel=rbf, total=   0.0s\n",
            "[CV] C=3.0, gamma=0.01, kernel=rbf ...................................\n",
            "[CV] .................... C=3.0, gamma=0.01, kernel=rbf, total=   0.0s\n",
            "[CV] C=3.0, gamma=0.01, kernel=rbf ...................................\n",
            "[CV] .................... C=3.0, gamma=0.01, kernel=rbf, total=   0.0s\n",
            "[CV] C=3.0, gamma=0.03, kernel=rbf ...................................\n",
            "[CV] .................... C=3.0, gamma=0.03, kernel=rbf, total=   0.0s\n",
            "[CV] C=3.0, gamma=0.03, kernel=rbf ...................................\n",
            "[CV] .................... C=3.0, gamma=0.03, kernel=rbf, total=   0.0s\n",
            "[CV] C=3.0, gamma=0.03, kernel=rbf ...................................\n",
            "[CV] .................... C=3.0, gamma=0.03, kernel=rbf, total=   0.0s\n",
            "[CV] C=3.0, gamma=0.03, kernel=rbf ...................................\n",
            "[CV] .................... C=3.0, gamma=0.03, kernel=rbf, total=   0.0s\n",
            "[CV] C=3.0, gamma=0.03, kernel=rbf ...................................\n",
            "[CV] .................... C=3.0, gamma=0.03, kernel=rbf, total=   0.0s\n",
            "[CV] C=3.0, gamma=0.1, kernel=rbf ....................................\n",
            "[CV] ..................... C=3.0, gamma=0.1, kernel=rbf, total=   0.0s\n",
            "[CV] C=3.0, gamma=0.1, kernel=rbf ....................................\n",
            "[CV] ..................... C=3.0, gamma=0.1, kernel=rbf, total=   0.0s\n",
            "[CV] C=3.0, gamma=0.1, kernel=rbf ....................................\n",
            "[CV] ..................... C=3.0, gamma=0.1, kernel=rbf, total=   0.0s\n",
            "[CV] C=3.0, gamma=0.1, kernel=rbf ....................................\n",
            "[CV] ..................... C=3.0, gamma=0.1, kernel=rbf, total=   0.0s\n",
            "[CV] C=3.0, gamma=0.1, kernel=rbf ....................................\n",
            "[CV] ..................... C=3.0, gamma=0.1, kernel=rbf, total=   0.0s\n",
            "[CV] C=10.0, gamma=0.01, kernel=rbf ..................................\n",
            "[CV] ................... C=10.0, gamma=0.01, kernel=rbf, total=   0.0s\n",
            "[CV] C=10.0, gamma=0.01, kernel=rbf ..................................\n",
            "[CV] ................... C=10.0, gamma=0.01, kernel=rbf, total=   0.0s\n",
            "[CV] C=10.0, gamma=0.01, kernel=rbf ..................................\n",
            "[CV] ................... C=10.0, gamma=0.01, kernel=rbf, total=   0.0s\n",
            "[CV] C=10.0, gamma=0.01, kernel=rbf ..................................\n",
            "[CV] ................... C=10.0, gamma=0.01, kernel=rbf, total=   0.0s\n",
            "[CV] C=10.0, gamma=0.01, kernel=rbf ..................................\n",
            "[CV] ................... C=10.0, gamma=0.01, kernel=rbf, total=   0.0s\n",
            "[CV] C=10.0, gamma=0.03, kernel=rbf ..................................\n",
            "[CV] ................... C=10.0, gamma=0.03, kernel=rbf, total=   0.0s\n",
            "[CV] C=10.0, gamma=0.03, kernel=rbf ..................................\n",
            "[CV] ................... C=10.0, gamma=0.03, kernel=rbf, total=   0.0s\n",
            "[CV] C=10.0, gamma=0.03, kernel=rbf ..................................\n",
            "[CV] ................... C=10.0, gamma=0.03, kernel=rbf, total=   0.0s\n",
            "[CV] C=10.0, gamma=0.03, kernel=rbf ..................................\n",
            "[CV] ................... C=10.0, gamma=0.03, kernel=rbf, total=   0.0s\n",
            "[CV] C=10.0, gamma=0.03, kernel=rbf ..................................\n",
            "[CV] ................... C=10.0, gamma=0.03, kernel=rbf, total=   0.0s\n",
            "[CV] C=10.0, gamma=0.1, kernel=rbf ...................................\n",
            "[CV] .................... C=10.0, gamma=0.1, kernel=rbf, total=   0.0s\n",
            "[CV] C=10.0, gamma=0.1, kernel=rbf ...................................\n",
            "[CV] .................... C=10.0, gamma=0.1, kernel=rbf, total=   0.0s\n",
            "[CV] C=10.0, gamma=0.1, kernel=rbf ...................................\n",
            "[CV] .................... C=10.0, gamma=0.1, kernel=rbf, total=   0.0s\n",
            "[CV] C=10.0, gamma=0.1, kernel=rbf ...................................\n",
            "[CV] .................... C=10.0, gamma=0.1, kernel=rbf, total=   0.0s\n",
            "[CV] C=10.0, gamma=0.1, kernel=rbf ...................................\n",
            "[CV] .................... C=10.0, gamma=0.1, kernel=rbf, total=   0.0s\n",
            "[CV] C=30.0, gamma=0.01, kernel=rbf ..................................\n",
            "[CV] ................... C=30.0, gamma=0.01, kernel=rbf, total=   0.0s\n",
            "[CV] C=30.0, gamma=0.01, kernel=rbf ..................................\n",
            "[CV] ................... C=30.0, gamma=0.01, kernel=rbf, total=   0.0s\n",
            "[CV] C=30.0, gamma=0.01, kernel=rbf ..................................\n",
            "[CV] ................... C=30.0, gamma=0.01, kernel=rbf, total=   0.0s\n",
            "[CV] C=30.0, gamma=0.01, kernel=rbf ..................................\n",
            "[CV] ................... C=30.0, gamma=0.01, kernel=rbf, total=   0.0s\n",
            "[CV] C=30.0, gamma=0.01, kernel=rbf ..................................\n",
            "[CV] ................... C=30.0, gamma=0.01, kernel=rbf, total=   0.0s\n",
            "[CV] C=30.0, gamma=0.03, kernel=rbf ..................................\n",
            "[CV] ................... C=30.0, gamma=0.03, kernel=rbf, total=   0.0s\n",
            "[CV] C=30.0, gamma=0.03, kernel=rbf ..................................\n",
            "[CV] ................... C=30.0, gamma=0.03, kernel=rbf, total=   0.0s\n",
            "[CV] C=30.0, gamma=0.03, kernel=rbf ..................................\n",
            "[CV] ................... C=30.0, gamma=0.03, kernel=rbf, total=   0.0s\n",
            "[CV] C=30.0, gamma=0.03, kernel=rbf ..................................\n",
            "[CV] ................... C=30.0, gamma=0.03, kernel=rbf, total=   0.0s\n",
            "[CV] C=30.0, gamma=0.03, kernel=rbf ..................................\n",
            "[CV] ................... C=30.0, gamma=0.03, kernel=rbf, total=   0.0s\n",
            "[CV] C=30.0, gamma=0.1, kernel=rbf ...................................\n",
            "[CV] .................... C=30.0, gamma=0.1, kernel=rbf, total=   0.0s\n",
            "[CV] C=30.0, gamma=0.1, kernel=rbf ...................................\n",
            "[CV] .................... C=30.0, gamma=0.1, kernel=rbf, total=   0.0s\n",
            "[CV] C=30.0, gamma=0.1, kernel=rbf ...................................\n",
            "[CV] .................... C=30.0, gamma=0.1, kernel=rbf, total=   0.0s\n",
            "[CV] C=30.0, gamma=0.1, kernel=rbf ...................................\n",
            "[CV] .................... C=30.0, gamma=0.1, kernel=rbf, total=   0.0s\n",
            "[CV] C=30.0, gamma=0.1, kernel=rbf ...................................\n",
            "[CV] .................... C=30.0, gamma=0.1, kernel=rbf, total=   0.0s\n"
          ],
          "name": "stdout"
        },
        {
          "output_type": "stream",
          "text": [
            "[Parallel(n_jobs=1)]: Done  85 out of  85 | elapsed:    0.7s finished\n"
          ],
          "name": "stderr"
        },
        {
          "output_type": "execute_result",
          "data": {
            "text/plain": [
              "GridSearchCV(cv=5, error_score=nan,\n",
              "             estimator=SVC(C=1.0, break_ties=False, cache_size=200,\n",
              "                           class_weight=None, coef0=0.0,\n",
              "                           decision_function_shape='ovr', degree=3,\n",
              "                           gamma='scale', kernel='rbf', max_iter=-1,\n",
              "                           probability=False, random_state=None, shrinking=True,\n",
              "                           tol=0.001, verbose=False),\n",
              "             iid='deprecated', n_jobs=None,\n",
              "             param_grid=[{'C': [10.0, 30.0, 100.0, 300.0, 1000.0],\n",
              "                          'kernel': ['linear']},\n",
              "                         {'C': [1.0, 3.0, 10.0, 30.0],\n",
              "                          'gamma': [0.01, 0.03, 0.1], 'kernel': ['rbf']}],\n",
              "             pre_dispatch='2*n_jobs', refit=True, return_train_score=False,\n",
              "             scoring='f1', verbose=2)"
            ]
          },
          "metadata": {
            "tags": []
          },
          "execution_count": 2
        }
      ]
    },
    {
      "cell_type": "code",
      "metadata": {
        "colab": {
          "base_uri": "https://localhost:8080/"
        },
        "id": "nO4jtyq3k-t_",
        "outputId": "846b74d8-0402-4f79-86c8-3f22856b879a"
      },
      "source": [
        "svm_grid_search.best_score_"
      ],
      "execution_count": 3,
      "outputs": [
        {
          "output_type": "execute_result",
          "data": {
            "text/plain": [
              "0.8901596789815969"
            ]
          },
          "metadata": {
            "tags": []
          },
          "execution_count": 3
        }
      ]
    },
    {
      "cell_type": "code",
      "metadata": {
        "colab": {
          "base_uri": "https://localhost:8080/"
        },
        "id": "lstA632dk-t_",
        "outputId": "27853b58-ab58-46ac-e3e5-ab067c49e7ef"
      },
      "source": [
        "svm_grid_search.best_params_"
      ],
      "execution_count": 4,
      "outputs": [
        {
          "output_type": "execute_result",
          "data": {
            "text/plain": [
              "{'C': 30.0, 'gamma': 0.1, 'kernel': 'rbf'}"
            ]
          },
          "metadata": {
            "tags": []
          },
          "execution_count": 4
        }
      ]
    },
    {
      "cell_type": "code",
      "metadata": {
        "id": "BQYFDL8ck-t_"
      },
      "source": [
        "# TP\n",
        "Randomized search"
      ],
      "execution_count": null,
      "outputs": []
    },
    {
      "cell_type": "markdown",
      "metadata": {
        "id": "YbUF-XeHl-BT"
      },
      "source": [
        "### Random Search"
      ]
    },
    {
      "cell_type": "code",
      "metadata": {
        "id": "ykUX5cZgl-0W"
      },
      "source": [
        "# import random search, random forest, iris data, and distributions\n",
        "from sklearn.model_selection import RandomizedSearchCV\n",
        "from sklearn import datasets\n",
        "from sklearn.ensemble import RandomForestClassifier\n",
        "from scipy.stats import uniform, truncnorm, randint\n",
        "\n",
        "# get iris data\n",
        "iris = datasets.load_iris()\n",
        "X = iris.data\n",
        "y = iris.target"
      ],
      "execution_count": 9,
      "outputs": []
    },
    {
      "cell_type": "code",
      "metadata": {
        "id": "ZgBJDvImmbCE"
      },
      "source": [
        "model_params = {\n",
        "    # randomly sample numbers from 4 to 204 estimators\n",
        "    'n_estimators': randint(4,200),\n",
        "    # normally distributed max_features, with mean .25 stddev 0.1, bounded between 0 and 1\n",
        "    'max_features': truncnorm(a=0, b=1, loc=0.25, scale=0.1),\n",
        "    # uniform distribution from 0.01 to 0.2 (0.01 + 0.199)\n",
        "    'min_samples_split': uniform(0.01, 0.199)\n",
        "}"
      ],
      "execution_count": 10,
      "outputs": []
    },
    {
      "cell_type": "code",
      "metadata": {
        "colab": {
          "base_uri": "https://localhost:8080/"
        },
        "id": "EezGmMKtmrDM",
        "outputId": "cb2da274-a8a5-49a5-eae6-05f950b29249"
      },
      "source": [
        "#Define and Train the Model with Random Search\n",
        "\n",
        "# create random forest classifier model\n",
        "rf_model = RandomForestClassifier()\n",
        "\n",
        "# set up random search meta-estimator\n",
        "# this will train 100 models over 5 folds of cross validation (500 models total)\n",
        "clf = RandomizedSearchCV(rf_model, model_params, n_iter=100, cv=5, random_state=1)\n",
        "\n",
        "# train the random search meta-estimator to find the best model out of 100 candidates\n",
        "model = clf.fit(X, y)\n",
        "\n",
        "# print winning set of hyperparameters\n",
        "from pprint import pprint\n",
        "pprint(model.best_estimator_.get_params())"
      ],
      "execution_count": 12,
      "outputs": [
        {
          "output_type": "stream",
          "text": [
            "{'bootstrap': True,\n",
            " 'ccp_alpha': 0.0,\n",
            " 'class_weight': None,\n",
            " 'criterion': 'gini',\n",
            " 'max_depth': None,\n",
            " 'max_features': 0.27616377599617853,\n",
            " 'max_leaf_nodes': None,\n",
            " 'max_samples': None,\n",
            " 'min_impurity_decrease': 0.0,\n",
            " 'min_impurity_split': None,\n",
            " 'min_samples_leaf': 1,\n",
            " 'min_samples_split': 0.039204422272605496,\n",
            " 'min_weight_fraction_leaf': 0.0,\n",
            " 'n_estimators': 148,\n",
            " 'n_jobs': None,\n",
            " 'oob_score': False,\n",
            " 'random_state': None,\n",
            " 'verbose': 0,\n",
            " 'warm_start': False}\n"
          ],
          "name": "stdout"
        }
      ]
    },
    {
      "cell_type": "code",
      "metadata": {
        "colab": {
          "base_uri": "https://localhost:8080/"
        },
        "id": "q8FXuVk6mtEt",
        "outputId": "7a898aea-d9ff-40bc-ce0f-4077cb578bac"
      },
      "source": [
        "#Generate Predictions Using the Best Model\n",
        "predictions = model.predict(X)\n",
        "print(predictions)"
      ],
      "execution_count": 13,
      "outputs": [
        {
          "output_type": "stream",
          "text": [
            "[0 0 0 0 0 0 0 0 0 0 0 0 0 0 0 0 0 0 0 0 0 0 0 0 0 0 0 0 0 0 0 0 0 0 0 0 0\n",
            " 0 0 0 0 0 0 0 0 0 0 0 0 0 1 1 1 1 1 1 1 1 1 1 1 1 1 1 1 1 1 1 1 1 1 1 1 1\n",
            " 1 1 1 1 1 1 1 1 1 2 1 1 1 1 1 1 1 1 1 1 1 1 1 1 1 1 2 2 2 2 2 2 2 2 2 2 2\n",
            " 2 2 2 2 2 2 2 2 2 2 2 2 2 2 2 2 2 2 2 2 2 2 2 2 2 2 2 2 2 2 2 2 2 2 2 2 2\n",
            " 2 2]\n"
          ],
          "name": "stdout"
        }
      ]
    }
  ]
}